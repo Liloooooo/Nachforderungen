{
 "cells": [
  {
   "cell_type": "markdown",
   "id": "cd7dc149-531d-4840-add1-1af5310d10f0",
   "metadata": {},
   "source": [
    "## Ein Vorhersagemodell trainieren\n",
    "\n",
    "Dies ist ein Testumfeld, um Modelle auszuprobieren und die Daten zu erforschen. \n",
    "Die beste Modellarchitektur wird anschließend in ein Skript überführt, wo sie zu regelmäßigen Retrainings und zum Experiment Tracking genutzt werden kann. Außerdem wird der Dev-Abteilung ein README oder einfaches Skript zur Vorhersage zur Verfügung gestellt.  \n"
   ]
  },
  {
   "cell_type": "markdown",
   "id": "6fc47da0-c1c7-42bd-8eef-2b21e5ce9346",
   "metadata": {},
   "source": [
    "Zunächst werden die Daten eingelesen."
   ]
  },
  {
   "cell_type": "code",
   "execution_count": 1,
   "id": "db2de923-ae8a-4bbd-99bf-f2ec85f4890f",
   "metadata": {},
   "outputs": [
    {
     "data": {
      "text/html": [
       "<div>\n",
       "<style scoped>\n",
       "    .dataframe tbody tr th:only-of-type {\n",
       "        vertical-align: middle;\n",
       "    }\n",
       "\n",
       "    .dataframe tbody tr th {\n",
       "        vertical-align: top;\n",
       "    }\n",
       "\n",
       "    .dataframe thead th {\n",
       "        text-align: right;\n",
       "    }\n",
       "</style>\n",
       "<table border=\"1\" class=\"dataframe\">\n",
       "  <thead>\n",
       "    <tr style=\"text-align: right;\">\n",
       "      <th></th>\n",
       "      <th>nachforderung</th>\n",
       "      <th>feature_0</th>\n",
       "      <th>feature_1</th>\n",
       "      <th>feature_2</th>\n",
       "      <th>feature_3</th>\n",
       "      <th>feature_4</th>\n",
       "      <th>feature_5</th>\n",
       "      <th>feature_6</th>\n",
       "      <th>feature_7</th>\n",
       "      <th>feature_8</th>\n",
       "      <th>...</th>\n",
       "      <th>feature_40</th>\n",
       "      <th>feature_41</th>\n",
       "      <th>feature_42</th>\n",
       "      <th>feature_43</th>\n",
       "      <th>feature_44</th>\n",
       "      <th>feature_45</th>\n",
       "      <th>feature_46</th>\n",
       "      <th>feature_47</th>\n",
       "      <th>feature_48</th>\n",
       "      <th>feature_49</th>\n",
       "    </tr>\n",
       "  </thead>\n",
       "  <tbody>\n",
       "    <tr>\n",
       "      <th>0</th>\n",
       "      <td>0.0</td>\n",
       "      <td>2</td>\n",
       "      <td>0</td>\n",
       "      <td>2046666667</td>\n",
       "      <td>0</td>\n",
       "      <td>327</td>\n",
       "      <td>0</td>\n",
       "      <td>0</td>\n",
       "      <td>0</td>\n",
       "      <td>1</td>\n",
       "      <td>...</td>\n",
       "      <td>0</td>\n",
       "      <td>0</td>\n",
       "      <td>0</td>\n",
       "      <td>0</td>\n",
       "      <td>0</td>\n",
       "      <td>0</td>\n",
       "      <td>0</td>\n",
       "      <td>0</td>\n",
       "      <td>0</td>\n",
       "      <td>92</td>\n",
       "    </tr>\n",
       "    <tr>\n",
       "      <th>1</th>\n",
       "      <td>1998.0</td>\n",
       "      <td>3</td>\n",
       "      <td>0</td>\n",
       "      <td>7886879699</td>\n",
       "      <td>5861358491</td>\n",
       "      <td>353</td>\n",
       "      <td>0</td>\n",
       "      <td>0</td>\n",
       "      <td>0</td>\n",
       "      <td>1</td>\n",
       "      <td>...</td>\n",
       "      <td>0</td>\n",
       "      <td>0</td>\n",
       "      <td>0</td>\n",
       "      <td>0</td>\n",
       "      <td>0</td>\n",
       "      <td>0</td>\n",
       "      <td>0</td>\n",
       "      <td>0</td>\n",
       "      <td>0</td>\n",
       "      <td>677</td>\n",
       "    </tr>\n",
       "    <tr>\n",
       "      <th>2</th>\n",
       "      <td>0.0</td>\n",
       "      <td>2</td>\n",
       "      <td>0</td>\n",
       "      <td>0</td>\n",
       "      <td>0</td>\n",
       "      <td>0</td>\n",
       "      <td>0</td>\n",
       "      <td>0</td>\n",
       "      <td>0</td>\n",
       "      <td>0</td>\n",
       "      <td>...</td>\n",
       "      <td>0</td>\n",
       "      <td>0</td>\n",
       "      <td>0</td>\n",
       "      <td>0</td>\n",
       "      <td>0</td>\n",
       "      <td>0</td>\n",
       "      <td>0</td>\n",
       "      <td>0</td>\n",
       "      <td>0</td>\n",
       "      <td>4</td>\n",
       "    </tr>\n",
       "    <tr>\n",
       "      <th>3</th>\n",
       "      <td>0.0</td>\n",
       "      <td>2</td>\n",
       "      <td>0</td>\n",
       "      <td>0</td>\n",
       "      <td>0</td>\n",
       "      <td>0</td>\n",
       "      <td>0</td>\n",
       "      <td>0</td>\n",
       "      <td>0</td>\n",
       "      <td>1</td>\n",
       "      <td>...</td>\n",
       "      <td>0</td>\n",
       "      <td>0</td>\n",
       "      <td>0</td>\n",
       "      <td>0</td>\n",
       "      <td>0</td>\n",
       "      <td>0</td>\n",
       "      <td>0</td>\n",
       "      <td>0</td>\n",
       "      <td>0</td>\n",
       "      <td>193</td>\n",
       "    </tr>\n",
       "    <tr>\n",
       "      <th>4</th>\n",
       "      <td>0.0</td>\n",
       "      <td>8</td>\n",
       "      <td>405</td>\n",
       "      <td>2481976402</td>\n",
       "      <td>2819085532</td>\n",
       "      <td>3585</td>\n",
       "      <td>0</td>\n",
       "      <td>6</td>\n",
       "      <td>0</td>\n",
       "      <td>0</td>\n",
       "      <td>...</td>\n",
       "      <td>0</td>\n",
       "      <td>0</td>\n",
       "      <td>0</td>\n",
       "      <td>0</td>\n",
       "      <td>0</td>\n",
       "      <td>0</td>\n",
       "      <td>0</td>\n",
       "      <td>0</td>\n",
       "      <td>0</td>\n",
       "      <td>3</td>\n",
       "    </tr>\n",
       "  </tbody>\n",
       "</table>\n",
       "<p>5 rows × 51 columns</p>\n",
       "</div>"
      ],
      "text/plain": [
       "   nachforderung  feature_0  feature_1   feature_2   feature_3  feature_4  \\\n",
       "0            0.0          2          0  2046666667           0        327   \n",
       "1         1998.0          3          0  7886879699  5861358491        353   \n",
       "2            0.0          2          0           0           0          0   \n",
       "3            0.0          2          0           0           0          0   \n",
       "4            0.0          8        405  2481976402  2819085532       3585   \n",
       "\n",
       "   feature_5  feature_6  feature_7  feature_8  ...  feature_40  feature_41  \\\n",
       "0          0          0          0          1  ...           0           0   \n",
       "1          0          0          0          1  ...           0           0   \n",
       "2          0          0          0          0  ...           0           0   \n",
       "3          0          0          0          1  ...           0           0   \n",
       "4          0          6          0          0  ...           0           0   \n",
       "\n",
       "   feature_42  feature_43  feature_44  feature_45  feature_46  feature_47  \\\n",
       "0           0           0           0           0           0           0   \n",
       "1           0           0           0           0           0           0   \n",
       "2           0           0           0           0           0           0   \n",
       "3           0           0           0           0           0           0   \n",
       "4           0           0           0           0           0           0   \n",
       "\n",
       "   feature_48  feature_49  \n",
       "0           0          92  \n",
       "1           0         677  \n",
       "2           0           4  \n",
       "3           0         193  \n",
       "4           0           3  \n",
       "\n",
       "[5 rows x 51 columns]"
      ]
     },
     "execution_count": 1,
     "metadata": {},
     "output_type": "execute_result"
    }
   ],
   "source": [
    "import pandas as pd\n",
    "path=\"./../data/\"\n",
    "\n",
    "df=pd.read_csv(path+\"Daten_Arbeitsprobe_DS.csv\", sep=';', thousands=',')\n",
    "df.head()"
   ]
  },
  {
   "cell_type": "markdown",
   "id": "0f1215a9-0578-4bc9-9e26-3ecab4b5e765",
   "metadata": {},
   "source": [
    "### Train-Test-Validation-Split"
   ]
  },
  {
   "cell_type": "markdown",
   "id": "ad552e22-2072-4f39-9a55-aeeb1fa5426d",
   "metadata": {},
   "source": [
    "Nun führe ich einen Train-Val-Test-Split durch, da mir keine separaten Daten für diesen Zweck zur Verfügung stehen. "
   ]
  },
  {
   "cell_type": "code",
   "execution_count": 2,
   "id": "8ac64e37-fcc3-476d-b425-470a22f7fde8",
   "metadata": {},
   "outputs": [],
   "source": [
    "from sklearn.model_selection import train_test_split\n",
    "df_train, df_test = train_test_split(df, random_state=0, test_size=0.1)\n",
    "df_train, df_val = train_test_split(df_train, random_state=0, test_size=0.1)"
   ]
  },
  {
   "cell_type": "code",
   "execution_count": 3,
   "id": "c9a8d466-eaa3-46c2-a325-7e971968cb92",
   "metadata": {},
   "outputs": [],
   "source": [
    "df_train.sort_index(inplace=True)"
   ]
  },
  {
   "cell_type": "code",
   "execution_count": 4,
   "id": "addcd4e2-26e5-4201-a173-1311fc5e5c46",
   "metadata": {},
   "outputs": [
    {
     "data": {
      "text/plain": [
       "8100"
      ]
     },
     "execution_count": 4,
     "metadata": {},
     "output_type": "execute_result"
    }
   ],
   "source": [
    "len(df_train)"
   ]
  },
  {
   "cell_type": "markdown",
   "id": "66283656-331e-4d22-8a80-934cedfa48c5",
   "metadata": {},
   "source": [
    "### EDA\n",
    "\n",
    "Ausschließlich die Trainingsdaten schaue ich mir an, um ein Gefühl für die Daten zu bekommen. Außerdem möchte ich wissen: \n",
    "* ob es NaN-Werte gibt,\n",
    "* ob es Ausreißer gibt,\n",
    "* ob es nicht numerisch kodierte Spalten gibt, für die One-Hot-Encoding oder Label-Encoding nötig ist."
   ]
  },
  {
   "cell_type": "code",
   "execution_count": 5,
   "id": "85a7250a-0021-4d7d-a1b3-ad59c36103a5",
   "metadata": {},
   "outputs": [
    {
     "data": {
      "text/html": [
       "<div>\n",
       "<style scoped>\n",
       "    .dataframe tbody tr th:only-of-type {\n",
       "        vertical-align: middle;\n",
       "    }\n",
       "\n",
       "    .dataframe tbody tr th {\n",
       "        vertical-align: top;\n",
       "    }\n",
       "\n",
       "    .dataframe thead th {\n",
       "        text-align: right;\n",
       "    }\n",
       "</style>\n",
       "<table border=\"1\" class=\"dataframe\">\n",
       "  <thead>\n",
       "    <tr style=\"text-align: right;\">\n",
       "      <th></th>\n",
       "      <th>nachforderung</th>\n",
       "      <th>feature_0</th>\n",
       "      <th>feature_1</th>\n",
       "      <th>feature_2</th>\n",
       "      <th>feature_3</th>\n",
       "      <th>feature_4</th>\n",
       "      <th>feature_5</th>\n",
       "      <th>feature_6</th>\n",
       "      <th>feature_7</th>\n",
       "      <th>feature_8</th>\n",
       "      <th>...</th>\n",
       "      <th>feature_40</th>\n",
       "      <th>feature_41</th>\n",
       "      <th>feature_42</th>\n",
       "      <th>feature_43</th>\n",
       "      <th>feature_44</th>\n",
       "      <th>feature_45</th>\n",
       "      <th>feature_46</th>\n",
       "      <th>feature_47</th>\n",
       "      <th>feature_48</th>\n",
       "      <th>feature_49</th>\n",
       "    </tr>\n",
       "  </thead>\n",
       "  <tbody>\n",
       "    <tr>\n",
       "      <th>count</th>\n",
       "      <td>8.100000e+03</td>\n",
       "      <td>8.100000e+03</td>\n",
       "      <td>8100.000000</td>\n",
       "      <td>8.100000e+03</td>\n",
       "      <td>8.100000e+03</td>\n",
       "      <td>8100.000000</td>\n",
       "      <td>8.100000e+03</td>\n",
       "      <td>8100.000000</td>\n",
       "      <td>8100.000000</td>\n",
       "      <td>8100.000000</td>\n",
       "      <td>...</td>\n",
       "      <td>8100.000000</td>\n",
       "      <td>8100.000000</td>\n",
       "      <td>8.100000e+03</td>\n",
       "      <td>8100.000000</td>\n",
       "      <td>8100.000000</td>\n",
       "      <td>8100.000000</td>\n",
       "      <td>8.100000e+03</td>\n",
       "      <td>8.100000e+03</td>\n",
       "      <td>8100.000000</td>\n",
       "      <td>8100.000000</td>\n",
       "    </tr>\n",
       "    <tr>\n",
       "      <th>mean</th>\n",
       "      <td>3.968428e+04</td>\n",
       "      <td>4.890348e+03</td>\n",
       "      <td>-470.896296</td>\n",
       "      <td>1.682037e+09</td>\n",
       "      <td>1.365863e+09</td>\n",
       "      <td>1228.818642</td>\n",
       "      <td>-1.637373e+06</td>\n",
       "      <td>1.184568</td>\n",
       "      <td>0.076420</td>\n",
       "      <td>0.597901</td>\n",
       "      <td>...</td>\n",
       "      <td>0.037531</td>\n",
       "      <td>0.016420</td>\n",
       "      <td>8.230455e+04</td>\n",
       "      <td>0.010741</td>\n",
       "      <td>0.009012</td>\n",
       "      <td>-258.989259</td>\n",
       "      <td>-3.932799e+06</td>\n",
       "      <td>3.873312e+05</td>\n",
       "      <td>0.004198</td>\n",
       "      <td>2142.930247</td>\n",
       "    </tr>\n",
       "    <tr>\n",
       "      <th>std</th>\n",
       "      <td>5.375301e+05</td>\n",
       "      <td>1.233434e+05</td>\n",
       "      <td>10205.235450</td>\n",
       "      <td>2.487373e+09</td>\n",
       "      <td>2.317120e+09</td>\n",
       "      <td>4358.355713</td>\n",
       "      <td>1.036641e+08</td>\n",
       "      <td>2.081174</td>\n",
       "      <td>1.114048</td>\n",
       "      <td>0.494364</td>\n",
       "      <td>...</td>\n",
       "      <td>0.190070</td>\n",
       "      <td>0.127091</td>\n",
       "      <td>5.237505e+06</td>\n",
       "      <td>0.103086</td>\n",
       "      <td>0.094510</td>\n",
       "      <td>9152.984779</td>\n",
       "      <td>1.805280e+08</td>\n",
       "      <td>3.251371e+07</td>\n",
       "      <td>0.064656</td>\n",
       "      <td>23312.720245</td>\n",
       "    </tr>\n",
       "    <tr>\n",
       "      <th>min</th>\n",
       "      <td>0.000000e+00</td>\n",
       "      <td>0.000000e+00</td>\n",
       "      <td>-424018.000000</td>\n",
       "      <td>-6.167725e+09</td>\n",
       "      <td>-1.102875e+06</td>\n",
       "      <td>-101494.000000</td>\n",
       "      <td>-7.814737e+09</td>\n",
       "      <td>0.000000</td>\n",
       "      <td>0.000000</td>\n",
       "      <td>0.000000</td>\n",
       "      <td>...</td>\n",
       "      <td>0.000000</td>\n",
       "      <td>0.000000</td>\n",
       "      <td>0.000000e+00</td>\n",
       "      <td>0.000000</td>\n",
       "      <td>0.000000</td>\n",
       "      <td>-503362.000000</td>\n",
       "      <td>-8.634940e+09</td>\n",
       "      <td>0.000000e+00</td>\n",
       "      <td>0.000000</td>\n",
       "      <td>0.000000</td>\n",
       "    </tr>\n",
       "    <tr>\n",
       "      <th>25%</th>\n",
       "      <td>0.000000e+00</td>\n",
       "      <td>3.000000e+00</td>\n",
       "      <td>0.000000</td>\n",
       "      <td>0.000000e+00</td>\n",
       "      <td>0.000000e+00</td>\n",
       "      <td>0.000000</td>\n",
       "      <td>0.000000e+00</td>\n",
       "      <td>0.000000</td>\n",
       "      <td>0.000000</td>\n",
       "      <td>0.000000</td>\n",
       "      <td>...</td>\n",
       "      <td>0.000000</td>\n",
       "      <td>0.000000</td>\n",
       "      <td>0.000000e+00</td>\n",
       "      <td>0.000000</td>\n",
       "      <td>0.000000</td>\n",
       "      <td>0.000000</td>\n",
       "      <td>0.000000e+00</td>\n",
       "      <td>0.000000e+00</td>\n",
       "      <td>0.000000</td>\n",
       "      <td>21.000000</td>\n",
       "    </tr>\n",
       "    <tr>\n",
       "      <th>50%</th>\n",
       "      <td>0.000000e+00</td>\n",
       "      <td>1.000000e+01</td>\n",
       "      <td>0.000000</td>\n",
       "      <td>0.000000e+00</td>\n",
       "      <td>0.000000e+00</td>\n",
       "      <td>0.000000</td>\n",
       "      <td>0.000000e+00</td>\n",
       "      <td>0.000000</td>\n",
       "      <td>0.000000</td>\n",
       "      <td>1.000000</td>\n",
       "      <td>...</td>\n",
       "      <td>0.000000</td>\n",
       "      <td>0.000000</td>\n",
       "      <td>0.000000e+00</td>\n",
       "      <td>0.000000</td>\n",
       "      <td>0.000000</td>\n",
       "      <td>0.000000</td>\n",
       "      <td>0.000000e+00</td>\n",
       "      <td>0.000000e+00</td>\n",
       "      <td>0.000000</td>\n",
       "      <td>93.000000</td>\n",
       "    </tr>\n",
       "    <tr>\n",
       "      <th>75%</th>\n",
       "      <td>2.000000e+00</td>\n",
       "      <td>2.700000e+01</td>\n",
       "      <td>56.000000</td>\n",
       "      <td>2.686879e+09</td>\n",
       "      <td>2.068159e+09</td>\n",
       "      <td>1715.000000</td>\n",
       "      <td>0.000000e+00</td>\n",
       "      <td>1.000000</td>\n",
       "      <td>0.000000</td>\n",
       "      <td>1.000000</td>\n",
       "      <td>...</td>\n",
       "      <td>0.000000</td>\n",
       "      <td>0.000000</td>\n",
       "      <td>0.000000e+00</td>\n",
       "      <td>0.000000</td>\n",
       "      <td>0.000000</td>\n",
       "      <td>0.000000</td>\n",
       "      <td>0.000000e+00</td>\n",
       "      <td>0.000000e+00</td>\n",
       "      <td>0.000000</td>\n",
       "      <td>167.000000</td>\n",
       "    </tr>\n",
       "    <tr>\n",
       "      <th>max</th>\n",
       "      <td>3.111206e+07</td>\n",
       "      <td>8.845315e+06</td>\n",
       "      <td>187742.000000</td>\n",
       "      <td>9.994311e+09</td>\n",
       "      <td>9.990635e+09</td>\n",
       "      <td>296846.000000</td>\n",
       "      <td>2.000000e+00</td>\n",
       "      <td>8.000000</td>\n",
       "      <td>32.000000</td>\n",
       "      <td>5.000000</td>\n",
       "      <td>...</td>\n",
       "      <td>1.000000</td>\n",
       "      <td>1.000000</td>\n",
       "      <td>3.333333e+08</td>\n",
       "      <td>1.000000</td>\n",
       "      <td>1.000000</td>\n",
       "      <td>0.000000</td>\n",
       "      <td>7.001667e+09</td>\n",
       "      <td>2.918667e+09</td>\n",
       "      <td>1.000000</td>\n",
       "      <td>889153.000000</td>\n",
       "    </tr>\n",
       "  </tbody>\n",
       "</table>\n",
       "<p>8 rows × 51 columns</p>\n",
       "</div>"
      ],
      "text/plain": [
       "       nachforderung     feature_0      feature_1     feature_2     feature_3  \\\n",
       "count   8.100000e+03  8.100000e+03    8100.000000  8.100000e+03  8.100000e+03   \n",
       "mean    3.968428e+04  4.890348e+03    -470.896296  1.682037e+09  1.365863e+09   \n",
       "std     5.375301e+05  1.233434e+05   10205.235450  2.487373e+09  2.317120e+09   \n",
       "min     0.000000e+00  0.000000e+00 -424018.000000 -6.167725e+09 -1.102875e+06   \n",
       "25%     0.000000e+00  3.000000e+00       0.000000  0.000000e+00  0.000000e+00   \n",
       "50%     0.000000e+00  1.000000e+01       0.000000  0.000000e+00  0.000000e+00   \n",
       "75%     2.000000e+00  2.700000e+01      56.000000  2.686879e+09  2.068159e+09   \n",
       "max     3.111206e+07  8.845315e+06  187742.000000  9.994311e+09  9.990635e+09   \n",
       "\n",
       "           feature_4     feature_5    feature_6    feature_7    feature_8  \\\n",
       "count    8100.000000  8.100000e+03  8100.000000  8100.000000  8100.000000   \n",
       "mean     1228.818642 -1.637373e+06     1.184568     0.076420     0.597901   \n",
       "std      4358.355713  1.036641e+08     2.081174     1.114048     0.494364   \n",
       "min   -101494.000000 -7.814737e+09     0.000000     0.000000     0.000000   \n",
       "25%         0.000000  0.000000e+00     0.000000     0.000000     0.000000   \n",
       "50%         0.000000  0.000000e+00     0.000000     0.000000     1.000000   \n",
       "75%      1715.000000  0.000000e+00     1.000000     0.000000     1.000000   \n",
       "max    296846.000000  2.000000e+00     8.000000    32.000000     5.000000   \n",
       "\n",
       "       ...   feature_40   feature_41    feature_42   feature_43   feature_44  \\\n",
       "count  ...  8100.000000  8100.000000  8.100000e+03  8100.000000  8100.000000   \n",
       "mean   ...     0.037531     0.016420  8.230455e+04     0.010741     0.009012   \n",
       "std    ...     0.190070     0.127091  5.237505e+06     0.103086     0.094510   \n",
       "min    ...     0.000000     0.000000  0.000000e+00     0.000000     0.000000   \n",
       "25%    ...     0.000000     0.000000  0.000000e+00     0.000000     0.000000   \n",
       "50%    ...     0.000000     0.000000  0.000000e+00     0.000000     0.000000   \n",
       "75%    ...     0.000000     0.000000  0.000000e+00     0.000000     0.000000   \n",
       "max    ...     1.000000     1.000000  3.333333e+08     1.000000     1.000000   \n",
       "\n",
       "          feature_45    feature_46    feature_47   feature_48     feature_49  \n",
       "count    8100.000000  8.100000e+03  8.100000e+03  8100.000000    8100.000000  \n",
       "mean     -258.989259 -3.932799e+06  3.873312e+05     0.004198    2142.930247  \n",
       "std      9152.984779  1.805280e+08  3.251371e+07     0.064656   23312.720245  \n",
       "min   -503362.000000 -8.634940e+09  0.000000e+00     0.000000       0.000000  \n",
       "25%         0.000000  0.000000e+00  0.000000e+00     0.000000      21.000000  \n",
       "50%         0.000000  0.000000e+00  0.000000e+00     0.000000      93.000000  \n",
       "75%         0.000000  0.000000e+00  0.000000e+00     0.000000     167.000000  \n",
       "max         0.000000  7.001667e+09  2.918667e+09     1.000000  889153.000000  \n",
       "\n",
       "[8 rows x 51 columns]"
      ]
     },
     "execution_count": 5,
     "metadata": {},
     "output_type": "execute_result"
    }
   ],
   "source": [
    "df_train.describe()"
   ]
  },
  {
   "cell_type": "code",
   "execution_count": 6,
   "id": "a8814600-99ed-4246-9cf3-365ca7fcd18e",
   "metadata": {},
   "outputs": [],
   "source": [
    "#df_train.isna().sum() --> keine NaN-Werte "
   ]
  },
  {
   "cell_type": "markdown",
   "id": "07fe8b61-9d8b-40fb-a802-b2e9ad582536",
   "metadata": {},
   "source": [
    "Da es sehr viele Spalten sind, möchte ich nicht alle Ausreißer visualisieren. \n",
    "Allerdings gibt es Spalten, deren Werte sehr hohe Standardabweichungen aufweisen. \n",
    "Ich schaue mir die Unique Values an, dort gibt es viele besondere Werte. Beispielsweise hier: "
   ]
  },
  {
   "cell_type": "code",
   "execution_count": 7,
   "id": "1b6792dc-17a5-41ca-bd6e-374b7970af85",
   "metadata": {},
   "outputs": [
    {
     "name": "stdout",
     "output_type": "stream",
     "text": [
      "feature_5  \n",
      " 0             7373\n",
      " 1              477\n",
      " 2              246\n",
      "-7814736842       1\n",
      "-5084630542       1\n",
      "-363283582        1\n",
      "-70847            1\n",
      "dtype: int64\n"
     ]
    }
   ],
   "source": [
    "print(df_train.loc[:, [\"feature_5\"]].value_counts())"
   ]
  },
  {
   "cell_type": "markdown",
   "id": "a677ac54-5348-4600-97bc-794cb5822048",
   "metadata": {},
   "source": [
    "Ähnliche Muster sind in vielen Features zu erkennen. Ich habe aber keine Informationen zu der Bedeutung der Features, was den Umgang mit solchen besonderen Werten erschwert. Ich habe mir zur Sicherheit für einige auch den Zusammenhang mit dem y-Wert, den Nachforderungen, angesehen. Insgesamt ist mein vorherrschendes Gefühl, dass das Entfernen von Ausreißern in den Trainingsdaten das Modell verbessern könnte, weil viele Datenpunkte nicht repräsentativ zu sein scheinen. Hier ist eine exemplarische Visualisierung:\n"
   ]
  },
  {
   "cell_type": "code",
   "execution_count": 8,
   "id": "f628412b-3bbc-49de-8831-f6fa136331fe",
   "metadata": {},
   "outputs": [
    {
     "data": {
      "text/plain": [
       "<matplotlib.collections.PathCollection at 0x7fedc55b4898>"
      ]
     },
     "execution_count": 8,
     "metadata": {},
     "output_type": "execute_result"
    },
    {
     "data": {
      "image/png": "[encoded data removed]",
      "text/plain": [
       "<Figure size 432x288 with 1 Axes>"
      ]
     },
     "metadata": {
      "needs_background": "light"
     },
     "output_type": "display_data"
    }
   ],
   "source": [
    "import matplotlib.pyplot as plt\n",
    "\n",
    "fig,ax=plt.subplots()\n",
    "ax.scatter(df_train.loc[:, \"feature_2\"], df_train.loc[:, \"nachforderung\"], s=1.5)"
   ]
  },
  {
   "cell_type": "markdown",
   "id": "f4066d13-04cc-4c7d-a95f-dbaf58f82767",
   "metadata": {},
   "source": [
    "Die Visualisierungen deuten insgesamt darauf hin, dass eine lineare Regression möglicherweise nicht die beste Architektur für die Daten sein könnte. "
   ]
  },
  {
   "cell_type": "markdown",
   "id": "79564d86-0f2d-4916-bddb-2a7eca298ca8",
   "metadata": {},
   "source": [
    "Als letztes überprüfe ich noch, ob nicht-numerische Spalten vorhanden sind. Das ist nicht der Fall. Ich gehe deshalb davon aus, dass auch in den Validation und Testdaten keine nicht-numerischen Spalten vorhanden sind. Falls die Möglichkeit nicht ausgeschlossen werden kann, müsste in der Vorhersage ein Ungang mit ihnen implementiert werden. "
   ]
  },
  {
   "cell_type": "code",
   "execution_count": 9,
   "id": "6e5d9514-9601-4379-ab24-5cd29f743f2d",
   "metadata": {},
   "outputs": [],
   "source": [
    "#df_train.dtypes --> no nonnumeric data"
   ]
  },
  {
   "cell_type": "markdown",
   "id": "f79a8f09-61e0-4ff2-97cb-852bde1e7abf",
   "metadata": {},
   "source": [
    "### Korrelation zwischen Features"
   ]
  },
  {
   "cell_type": "markdown",
   "id": "f3f188c9-66cf-4434-a614-5ce662ac089e",
   "metadata": {},
   "source": [
    "Für die Vorhersage spielt die Korrelation nur eine untergeordnete Rolle, doch für die Interpretation (weiter unten) der Prädiktoren ist sie wichtig. Ich überrpüfe sie hier bereits, weil bei stark korrelierten Spatlen auch eine PCA in Frage kommt."
   ]
  },
  {
   "cell_type": "code",
   "execution_count": 10,
   "id": "6262727a-bc61-46af-a72f-c986bd836f28",
   "metadata": {},
   "outputs": [],
   "source": [
    "#since question for interpretation --> check correlations between features\n",
    "\n",
    "corr_map=df_train.drop('nachforderung', axis=1).corr()"
   ]
  },
  {
   "cell_type": "code",
   "execution_count": 11,
   "id": "9540d74f-251c-42f0-9cf4-ff805a38b9d5",
   "metadata": {},
   "outputs": [
    {
     "data": {
      "text/plain": [
       "<matplotlib.axes._subplots.AxesSubplot at 0x7fedc6833748>"
      ]
     },
     "execution_count": 11,
     "metadata": {},
     "output_type": "execute_result"
    },
    {
     "data": {
      "image/png": "[encoded data removed]",
      "text/plain": [
       "<Figure size 1080x720 with 2 Axes>"
      ]
     },
     "metadata": {
      "needs_background": "light"
     },
     "output_type": "display_data"
    }
   ],
   "source": [
    "import seaborn as sns\n",
    "\n",
    "fig,ax=plt.subplots(figsize=(15,10))\n",
    "sns.heatmap(corr_map, ax=ax)"
   ]
  },
  {
   "cell_type": "markdown",
   "id": "9bb49c05-0991-48e0-af8d-e7e08aaf1f8a",
   "metadata": {},
   "source": [
    "Hier scheint es keine besonders hohen Korrelationen zu geben, daher verzichte ich auf die PCA."
   ]
  },
  {
   "cell_type": "markdown",
   "id": "4dbf95a3-5420-46e8-9c68-f626ba259169",
   "metadata": {},
   "source": [
    "### Ein Baseline Modell\n",
    "\n",
    "Ich hatte schon festgestellt, dass möglicherweise eine Entfernung von Ausreißern das Modell verbessern könnte, und außerdem, dass die lineare Regression möglicherweise nicht so geeignet ist. Jetzt hätte ich aber erstmal gerne einen Anker, und nutze die lineare Regression ohne Entfernung der Ausreißer als Baseline Modell. "
   ]
  },
  {
   "cell_type": "markdown",
   "id": "953180af-f2c6-46e9-ae53-dc81ea8b046b",
   "metadata": {},
   "source": [
    "Zunächst trenne ich Features und Target voneinander, jeweils für Train, Test, und Validierungsset. "
   ]
  },
  {
   "cell_type": "code",
   "execution_count": 12,
   "id": "b1f168af-c12a-499b-a86e-8735894466db",
   "metadata": {},
   "outputs": [],
   "source": [
    "features_train=df_train.iloc[:,1:]\n",
    "target_train=df_train.iloc[:,0]"
   ]
  },
  {
   "cell_type": "code",
   "execution_count": 13,
   "id": "2f65015a-7f07-419f-8db1-7cda8353a8fd",
   "metadata": {},
   "outputs": [],
   "source": [
    "features_val=df_val.iloc[:,1:]\n",
    "target_val=df_val.iloc[:,0]\n",
    "features_test=df_test.iloc[:,1:]\n",
    "target_test=df_test.iloc[:,0]"
   ]
  },
  {
   "cell_type": "code",
   "execution_count": 14,
   "id": "4ab9cfe9-24dc-4089-8f9d-b348af164269",
   "metadata": {},
   "outputs": [],
   "source": [
    "import warnings\n",
    "warnings.filterwarnings(\"ignore\")"
   ]
  },
  {
   "cell_type": "markdown",
   "id": "f46be027-6efd-44c5-954a-524b987a7501",
   "metadata": {},
   "source": [
    "Hier fitte ich ein lineares Regressionsmodell. "
   ]
  },
  {
   "cell_type": "code",
   "execution_count": 15,
   "id": "d4c9c994-2752-41d7-ae61-9efa43625da2",
   "metadata": {},
   "outputs": [
    {
     "data": {
      "text/plain": [
       "LinearRegression(copy_X=True, fit_intercept=True, n_jobs=None,\n",
       "         normalize=False)"
      ]
     },
     "execution_count": 15,
     "metadata": {},
     "output_type": "execute_result"
    }
   ],
   "source": [
    "#first baseline model\n",
    "\n",
    "from sklearn.linear_model import LinearRegression \n",
    "from sklearn.preprocessing import StandardScaler \n",
    "\n",
    "scaler=StandardScaler()\n",
    "features_train_scaled=scaler.fit_transform(features_train)\n",
    "\n",
    "lr=LinearRegression()\n",
    "lr.fit(features_train_scaled, target_train)\n"
   ]
  },
  {
   "cell_type": "markdown",
   "id": "18593067-41d6-4075-88ae-bebafcd6c3be",
   "metadata": {},
   "source": [
    "Nun evaluiere ich es. Ich nutze dazu den Mean Absolute Error (MAE), weil in der Aufgabenstellung hierauf verwiesen wurde. Die unterliegende Optimierung bezieht sich aber auf die Least Squares, sie ist also etwas verschieden. Der MSE oder RMSE wird auch häufig verwendet, gewichtet aber weiter entfernt liegende Punkte stärker. \n",
    "Zur Evaluierung nutze ich die Validierungsdaten. Erst sobald ich ein Modell gewählt habe, nutze ich die Testdaten, um die Metrik zu validieren. "
   ]
  },
  {
   "cell_type": "code",
   "execution_count": 16,
   "id": "07d9703c-821f-468c-b9c5-53928da6899b",
   "metadata": {},
   "outputs": [],
   "source": [
    "#prepare validation data \n",
    "features_val_scaled=scaler.transform(features_val)\n",
    "target_val_predict=lr.predict(features_val_scaled)"
   ]
  },
  {
   "cell_type": "code",
   "execution_count": 17,
   "id": "2d4160af-bbac-4602-8cb9-34457092b662",
   "metadata": {},
   "outputs": [
    {
     "data": {
      "text/plain": [
       "42246.03193340812"
      ]
     },
     "execution_count": 17,
     "metadata": {},
     "output_type": "execute_result"
    }
   ],
   "source": [
    "from sklearn.metrics import mean_absolute_error as mae\n",
    "\n",
    "lr_val_mae=mae(target_val, target_val_predict)\n",
    "lr_val_mae\n"
   ]
  },
  {
   "cell_type": "markdown",
   "id": "5431ae52-3b55-4fb8-8379-3634a07715fc",
   "metadata": {},
   "source": [
    "Wie zu erwarten ist die Metrik für das Modell schlecht. Ich probiere noch Ridge und einen RandomForestRegressor aus. Für beides nutze ich GridSearchCV. Ich definiere das scoring entsprechend meiner Metrik, damit die Modellselektion auch meinem Ziel entspricht. "
   ]
  },
  {
   "cell_type": "code",
   "execution_count": 18,
   "id": "44199ade-8487-406e-b557-543438c98473",
   "metadata": {},
   "outputs": [
    {
     "data": {
      "text/plain": [
       "GridSearchCV(cv=5, error_score='raise-deprecating',\n",
       "       estimator=Ridge(alpha=1.0, copy_X=True, fit_intercept=True, max_iter=None,\n",
       "   normalize=False, random_state=0, solver='auto', tol=0.001),\n",
       "       fit_params=None, iid='warn', n_jobs=None,\n",
       "       param_grid={'alpha': [0.1, 0.5, 0.8], 'solver': ['auto', 'lsqr']},\n",
       "       pre_dispatch='2*n_jobs', refit=True, return_train_score='warn',\n",
       "       scoring='neg_mean_absolute_error', verbose=0)"
      ]
     },
     "execution_count": 18,
     "metadata": {},
     "output_type": "execute_result"
    }
   ],
   "source": [
    "#try ridge\n",
    "\n",
    "from sklearn.linear_model import Ridge\n",
    "from sklearn.model_selection import GridSearchCV\n",
    "\n",
    "ridge=Ridge(random_state=0)\n",
    "\n",
    "search_space={'alpha':[0.1, 0.5, 0.8], 'solver': ['auto', 'lsqr']}\n",
    "\n",
    "ridge_grid=GridSearchCV(ridge, param_grid=search_space, scoring='neg_mean_absolute_error', refit=True, cv=5)\n",
    "ridge_grid.fit(features_train_scaled, target_train)\n",
    "\n"
   ]
  },
  {
   "cell_type": "code",
   "execution_count": 19,
   "id": "78c2e94d-b48c-4013-a474-98d42e729af7",
   "metadata": {},
   "outputs": [
    {
     "data": {
      "text/plain": [
       "42163.589148627616"
      ]
     },
     "execution_count": 19,
     "metadata": {},
     "output_type": "execute_result"
    }
   ],
   "source": [
    "target_val_predict_ridge=ridge_grid.predict(features_val_scaled)\n",
    "ridge_val_mae=mae(target_val, target_val_predict_ridge)\n",
    "ridge_val_mae"
   ]
  },
  {
   "cell_type": "code",
   "execution_count": null,
   "id": "da611b7d-b34c-4f64-9c9f-9aaa2b0d4cf3",
   "metadata": {},
   "outputs": [],
   "source": []
  },
  {
   "cell_type": "code",
   "execution_count": 20,
   "id": "66a602a3-a140-43ce-a076-15fa272d31c8",
   "metadata": {},
   "outputs": [
    {
     "data": {
      "text/plain": [
       "GridSearchCV(cv=5, error_score='raise-deprecating',\n",
       "       estimator=RandomForestRegressor(bootstrap=True, criterion='mse', max_depth=None,\n",
       "           max_features='auto', max_leaf_nodes=None,\n",
       "           min_impurity_decrease=0.0, min_impurity_split=None,\n",
       "           min_samples_leaf=1, min_samples_split=2,\n",
       "           min_weight_fraction_leaf=0.0, n_estimators='warn', n_jobs=None,\n",
       "           oob_score=False, random_state=0, verbose=0, warm_start=False),\n",
       "       fit_params=None, iid='warn', n_jobs=None,\n",
       "       param_grid={'max_depth': [5, 10, 15, 20]}, pre_dispatch='2*n_jobs',\n",
       "       refit=True, return_train_score='warn',\n",
       "       scoring='neg_mean_absolute_error', verbose=0)"
      ]
     },
     "execution_count": 20,
     "metadata": {},
     "output_type": "execute_result"
    }
   ],
   "source": [
    "#randomforest regressor\n",
    "from sklearn.ensemble import RandomForestRegressor \n",
    "\n",
    "rf=RandomForestRegressor(random_state=0)\n",
    "\n",
    "search_space={'max_depth':[5,10,15,20]}\n",
    "\n",
    "rf_grid=GridSearchCV(rf, param_grid=search_space, scoring='neg_mean_absolute_error', refit=True, cv=5)\n",
    "rf_grid.fit(features_train, target_train)"
   ]
  },
  {
   "cell_type": "code",
   "execution_count": 21,
   "id": "f7a8cb67-c7d3-4c92-8faf-dcae487be3de",
   "metadata": {},
   "outputs": [
    {
     "data": {
      "text/plain": [
       "11516.885048779148"
      ]
     },
     "execution_count": 21,
     "metadata": {},
     "output_type": "execute_result"
    }
   ],
   "source": [
    "target_val_predict_rf=rf_grid.predict(features_val)\n",
    "\n",
    "#MAE\n",
    "rf_val_mae=mae(target_val, target_val_predict_rf)\n",
    "rf_val_mae"
   ]
  },
  {
   "cell_type": "markdown",
   "id": "a8e36960-be6c-4c17-aa90-d092d0fac393",
   "metadata": {},
   "source": [
    "Der RandomforestRegressor hat eine sehr viel bessere Metrik. Ich schaue mir noch an, was der beste Schätzer ist. Vor allem interessiert mich max_depth Ich möchte wissen, ob die beste max_depth am Rand liegt. Dann würde es sich anbieten, nochmal weiter zu suchen. \n"
   ]
  },
  {
   "cell_type": "code",
   "execution_count": 23,
   "id": "c1868b14-f3be-43bd-98a2-8013d892f8d2",
   "metadata": {},
   "outputs": [
    {
     "data": {
      "text/plain": [
       "RandomForestRegressor(bootstrap=True, criterion='mse', max_depth=15,\n",
       "           max_features='auto', max_leaf_nodes=None,\n",
       "           min_impurity_decrease=0.0, min_impurity_split=None,\n",
       "           min_samples_leaf=1, min_samples_split=2,\n",
       "           min_weight_fraction_leaf=0.0, n_estimators=10, n_jobs=None,\n",
       "           oob_score=False, random_state=0, verbose=0, warm_start=False)"
      ]
     },
     "execution_count": 23,
     "metadata": {},
     "output_type": "execute_result"
    }
   ],
   "source": [
    "rf_grid.best_estimator_"
   ]
  },
  {
   "cell_type": "markdown",
   "id": "e00386a5-0eab-4aff-b1b9-2457f6d1467b",
   "metadata": {},
   "source": [
    "### Random Forest ohne Ausreißer\n",
    "\n",
    "Ich versuche nun noch einmal ein paar Ausreißer aus dem Trainingssatz zu entfernen und schaue mir dann die Modellmetrik an. Ausreißer entferne ich nur aus dem Trainingsset, da ich ein möglichst realitätsnahes Szenario schaffen möchte."
   ]
  },
  {
   "cell_type": "code",
   "execution_count": 24,
   "id": "a7de927e-dd0f-4278-aa1e-127174d4f2a4",
   "metadata": {},
   "outputs": [
    {
     "name": "stdout",
     "output_type": "stream",
     "text": [
      "1058 lines removed\n"
     ]
    }
   ],
   "source": [
    "#better\n",
    "#try some cleaning for df_train \n",
    "#identify and remove outliers \n",
    "\n",
    "def outlier_removal(dataframe, quantile_low, quantile_high):\n",
    "    \"\"\"remove outlier which are outside of 1.5*IQR, where IQR is defined as the range corresponding to quantile_high minus quantile_low. Performed on each column in dataframe. \n",
    "    Return dataframe with outliers removed\"\"\"\n",
    "    df=dataframe.copy()\n",
    "    for col in df.columns:\n",
    "        iqr=df.loc[:,'feature_1'].quantile(q=quantile_high)-df.loc[:,'feature_1'].quantile(q=quantile_low)\n",
    "        upper=df.loc[:,'feature_1'].quantile(q=quantile_high)+1.5*iqr\n",
    "        lower=df.loc[:,'feature_1'].quantile(q=quantile_low)-1.5*iqr\n",
    "        mask=(df.loc[:,'feature_1']>lower) & (df.loc[:,'feature_1']<upper)\n",
    "        df=df.loc[mask, :]\n",
    "    diff=len(dataframe)-len(df)\n",
    "    print(f'{diff} lines removed')\n",
    "    return df\n",
    "\n",
    "\n",
    "features_train_new = outlier_removal(features_train, 0.1,0.9)\n"
   ]
  },
  {
   "cell_type": "code",
   "execution_count": 25,
   "id": "d9bd98e5-71ba-47ad-87e1-60adfa496ec0",
   "metadata": {},
   "outputs": [],
   "source": [
    "merged=pd.merge(target_train, features_train_new, left_index=True, right_index=True)\n",
    "target_train_new=merged.loc[:,\"nachforderung\"]"
   ]
  },
  {
   "cell_type": "code",
   "execution_count": 26,
   "id": "30d46577-ee54-4adb-a0fc-3ff6d811e577",
   "metadata": {},
   "outputs": [
    {
     "data": {
      "text/plain": [
       "GridSearchCV(cv=5, error_score='raise-deprecating',\n",
       "       estimator=RandomForestRegressor(bootstrap=True, criterion='mse', max_depth=None,\n",
       "           max_features='auto', max_leaf_nodes=None,\n",
       "           min_impurity_decrease=0.0, min_impurity_split=None,\n",
       "           min_samples_leaf=1, min_samples_split=2,\n",
       "           min_weight_fraction_leaf=0.0, n_estimators='warn', n_jobs=None,\n",
       "           oob_score=False, random_state=0, verbose=0, warm_start=False),\n",
       "       fit_params=None, iid='warn', n_jobs=None,\n",
       "       param_grid={'max_depth': [5, 10, 15, 20]}, pre_dispatch='2*n_jobs',\n",
       "       refit=True, return_train_score='warn',\n",
       "       scoring='neg_mean_absolute_error', verbose=0)"
      ]
     },
     "execution_count": 26,
     "metadata": {},
     "output_type": "execute_result"
    }
   ],
   "source": [
    "#new random forest training \n",
    "\n",
    "rf_outlier=RandomForestRegressor(random_state=0)\n",
    "\n",
    "search_space={'max_depth':[5,10,15,20]}\n",
    "\n",
    "rf_grid_new=GridSearchCV(rf, param_grid=search_space, scoring='neg_mean_absolute_error', refit=True, cv=5)\n",
    "rf_grid_new.fit(features_train_new, target_train_new)"
   ]
  },
  {
   "cell_type": "code",
   "execution_count": 27,
   "id": "a81a4426-6801-499e-b482-ab1bc5c16c52",
   "metadata": {},
   "outputs": [
    {
     "data": {
      "text/plain": [
       "9432.594590310126"
      ]
     },
     "execution_count": 27,
     "metadata": {},
     "output_type": "execute_result"
    }
   ],
   "source": [
    "target_val_predict_rfnew=rf_grid_new.predict(features_val)\n",
    "\n",
    "#MAE\n",
    "rfnew_val_mae=mae(target_val, target_val_predict_rfnew)\n",
    "rfnew_val_mae"
   ]
  },
  {
   "cell_type": "markdown",
   "id": "71e84242-8e78-4a13-a973-31f9d83d4e3f",
   "metadata": {},
   "source": [
    "Die Metrik im Validierungsdatensatz hat sich durch die Entfernung der Ausreißer nochmal verbessert. Ich bleibe nun bei diesem Modell, und speichere es ab. GridSearchCV hat sich um das Fitten bereits gekümmert, so dass ich das Modell nicht nochmal neu traininiern muss. "
   ]
  },
  {
   "cell_type": "code",
   "execution_count": 29,
   "id": "7bf49ef0-0dc9-4fee-b42a-0263c6be9720",
   "metadata": {},
   "outputs": [],
   "source": [
    "import pickle\n",
    "\n",
    "model_p = \"random_forest.pkl\"  \n",
    "\n",
    "with open(model_p, 'wb') as file:  \n",
    "    pickle.dump(rf_grid_new, file)"
   ]
  },
  {
   "cell_type": "markdown",
   "id": "a7f3b7b8-8549-4e11-984b-742f8072e4d8",
   "metadata": {},
   "source": [
    "Jetzt überprüfe ich noch, ob die Metrik auch im Testset stabil bleibt. features_test und target_test habe ich oben schon vorbereitet. Hierzu schreibe ich auch eine Mini-Funktion, die zusammen mit dem gefitteten Modell zur Vorhersage genutzt werden kann."
   ]
  },
  {
   "cell_type": "code",
   "execution_count": 42,
   "id": "caca5de4-1c11-4d02-a058-7306ff54ec71",
   "metadata": {},
   "outputs": [
    {
     "data": {
      "text/plain": [
       "18428.519074619122"
      ]
     },
     "execution_count": 42,
     "metadata": {},
     "output_type": "execute_result"
    }
   ],
   "source": [
    "def generate_prediction(model, features_to_predict): \n",
    "    return model.predict(features_to_predict)\n",
    "\n",
    "target_test_predict_rfnew=generate_prediction(rf_grid_new, features_test)\n",
    "\n",
    "#MAE\n",
    "rfnew_test_mae=mae(target_test, target_test_predict_rfnew)\n",
    "rfnew_test_mae"
   ]
  },
  {
   "cell_type": "markdown",
   "id": "d7381f16-8aaa-4a36-8ba8-c750eee39dac",
   "metadata": {},
   "source": [
    "Leider ist die Metrik hier sehr viel schlechter ausgefallen. Möglicherweise sind auch im Testset viele Ausreißer vorhanden, die durch das Modell nicht gut abgefangen werden konnten. Das kann verschiedene Gründe haben: \n",
    "* das Modell ist Overfitted. Hierzu hatte ich die max_depth im RandomForest bereits begrenzt\n",
    "* Die Daten sind sehr sparse, und daher auch sehr variabel. Für das Modell ist es daher schwierig, Extremwerte gut vorherzusagen. Ein größerer Datensatz könnte Abhilfe schaffen, möglicherweise auch eine andere Modellarchitektur.\n",
    "* Vielleicht handelte es sich bei den Ausreißern doch nicht um nicht-repräsentative Daten. \n",
    "\n",
    "Das Modell ist sehr wahrscheinlich nicht nutzbar, und sollte nochmal eingehender behandelt werden. \n",
    "\n"
   ]
  },
  {
   "cell_type": "markdown",
   "id": "251f4907-e1fd-4b8c-95a2-435ce3cc6b48",
   "metadata": {},
   "source": [
    "### Feature Importance \n",
    "\n",
    "Der gefittete RandomForestRegressor hat ein Attribut, mit Hilfe dessen sich Feature Importances darstellen lassen. Sie messen, wie sehr das jeweilige Feature im Trainingsset durchschnittlich in der Lage war, die Impurity zu reduzieren, also dem Modell geholfen hat, sicherere Vorhersagen zu treffen. Aufgrund der iterativen Herangehensweise von Entscheidungsbäumen unterliegt aber auch die Feature Importance großen Schwankungen (=sie würde wahrscheinlich anders ausfallen bei anderen Random_States). "
   ]
  },
  {
   "cell_type": "code",
   "execution_count": 38,
   "id": "0a3b8da8-7003-402b-ae93-99d1815e4918",
   "metadata": {},
   "outputs": [],
   "source": [
    "feature_importances=rf_grid_new.best_estimator_.feature_importances_"
   ]
  },
  {
   "cell_type": "code",
   "execution_count": 41,
   "id": "d712ac6b-470e-4ac7-9670-38554d585adc",
   "metadata": {},
   "outputs": [
    {
     "data": {
      "text/plain": [
       "array([1.58557908e-01, 2.90770251e-03, 4.08294252e-02, 2.94250329e-03,\n",
       "       1.13901249e-02, 2.51113093e-02, 1.67585106e-03, 3.16308708e-02,\n",
       "       2.39439244e-03, 1.57076106e-04, 1.44448932e-02, 5.54998826e-05,\n",
       "       2.81468847e-03, 9.96198440e-04, 1.68421995e-03, 3.61778112e-04,\n",
       "       1.14635512e-02, 1.74600745e-04, 1.66188381e-04, 8.57104728e-04,\n",
       "       1.51042470e-02, 6.04085828e-03, 1.61340392e-05, 4.04836158e-04,\n",
       "       1.48146305e-05, 1.70577430e-03, 1.17465969e-03, 1.95286633e-05,\n",
       "       1.30619981e-03, 1.51781692e-02, 3.54785386e-06, 4.79003307e-03,\n",
       "       1.46986888e-03, 6.88265124e-05, 3.78760608e-05, 1.25958906e-04,\n",
       "       2.47931145e-04, 4.15170179e-07, 2.70423549e-07, 7.97255379e-06,\n",
       "       2.78470621e-03, 5.96975514e-04, 4.72972709e-06, 2.15074526e-04,\n",
       "       1.62225663e-06, 4.15111418e-06, 2.13732513e-07, 5.08451074e-02,\n",
       "       8.50541721e-05, 5.87128557e-01])"
      ]
     },
     "execution_count": 41,
     "metadata": {},
     "output_type": "execute_result"
    }
   ],
   "source": [
    "feature_importances"
   ]
  },
  {
   "cell_type": "code",
   "execution_count": 45,
   "id": "bfdede43-5cd4-471b-8c80-a32c16604695",
   "metadata": {},
   "outputs": [],
   "source": [
    "D_features={}\n",
    "\n",
    "for i in range(len(feature_importances)): \n",
    "    name = f\"feature_{i}\"\n",
    "    D_features[name]=feature_importances[i]"
   ]
  },
  {
   "cell_type": "code",
   "execution_count": 49,
   "id": "5c098d85-e348-4d8d-83f4-329578f62e3f",
   "metadata": {},
   "outputs": [],
   "source": [
    "D_features_smaller={}\n",
    "\n",
    "for key, value in D_features.items(): \n",
    "    if value>0.01: \n",
    "        D_features_smaller[key]=value"
   ]
  },
  {
   "cell_type": "code",
   "execution_count": 50,
   "id": "0c5d100f-390f-440e-a9e3-ce84e39d6bfd",
   "metadata": {},
   "outputs": [
    {
     "data": {
      "text/plain": [
       "{'feature_0': 0.1585579077037222,\n",
       " 'feature_2': 0.040829425161708954,\n",
       " 'feature_4': 0.011390124940060494,\n",
       " 'feature_5': 0.025111309314940287,\n",
       " 'feature_7': 0.03163087082188264,\n",
       " 'feature_10': 0.014444893215851537,\n",
       " 'feature_16': 0.011463551165947116,\n",
       " 'feature_20': 0.015104247048895954,\n",
       " 'feature_29': 0.015178169235656486,\n",
       " 'feature_47': 0.05084510735649352,\n",
       " 'feature_49': 0.5871285565242721}"
      ]
     },
     "execution_count": 50,
     "metadata": {},
     "output_type": "execute_result"
    }
   ],
   "source": [
    "D_features_smaller"
   ]
  },
  {
   "cell_type": "code",
   "execution_count": 53,
   "id": "8b34fc57-e93e-44ff-81ba-feb50ae91342",
   "metadata": {},
   "outputs": [
    {
     "data": {
      "text/plain": [
       "dict_keys(['feature_0', 'feature_2', 'feature_4', 'feature_5', 'feature_7', 'feature_10', 'feature_16', 'feature_20', 'feature_29', 'feature_47', 'feature_49'])"
      ]
     },
     "execution_count": 53,
     "metadata": {},
     "output_type": "execute_result"
    }
   ],
   "source": [
    "D_features_smaller.keys()"
   ]
  },
  {
   "cell_type": "code",
   "execution_count": 59,
   "id": "78a66e9b-eb16-40c1-8105-bc2869712350",
   "metadata": {},
   "outputs": [
    {
     "data": {
      "image/png": "[encoded data removed]",
      "text/plain": [
       "<Figure size 432x288 with 1 Axes>"
      ]
     },
     "metadata": {
      "needs_background": "light"
     },
     "output_type": "display_data"
    }
   ],
   "source": [
    "fig, ax=plt.subplots()\n",
    "\n",
    "\n",
    "names = list(D_features_smaller.keys())\n",
    "values = list(D_features_smaller.values())\n",
    "\n",
    "ax.barh(range(len(names)), values, tick_label=names);\n",
    "\n"
   ]
  },
  {
   "cell_type": "markdown",
   "id": "7d78f59e-d039-485c-b3e5-5d72129183ed",
   "metadata": {},
   "source": [
    "Laut dieser Methode hat also feature_49 dei größte Wichtigkeit. "
   ]
  },
  {
   "cell_type": "markdown",
   "id": "d364bc63-833a-4cee-adcf-923ef2f8ef0c",
   "metadata": {},
   "source": [
    "Eine Alternative wäre, andere, modellagnostische, Methoden zur Interpretation heranzuziehen, wie z.B. die Permutation Importance. Hier wird überprüft, wie sich die Modellverhersage verändert, wenn jeweils die Werte eines Features neu gemischt werden. "
   ]
  }
 ],
 "metadata": {
  "kernelspec": {
   "display_name": "drv_env_kernel",
   "language": "python",
   "name": "drv_env_kernel"
  },
  "language_info": {
   "codemirror_mode": {
    "name": "ipython",
    "version": 3
   },
   "file_extension": ".py",
   "mimetype": "text/x-python",
   "name": "python",
   "nbconvert_exporter": "python",
   "pygments_lexer": "ipython3",
   "version": "3.7.1"
  }
 },
 "nbformat": 4,
 "nbformat_minor": 5
}
